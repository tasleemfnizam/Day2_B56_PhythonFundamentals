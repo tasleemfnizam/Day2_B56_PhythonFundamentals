{
 "cells": [
  {
   "cell_type": "code",
   "execution_count": 1,
   "id": "e0ecc15e",
   "metadata": {},
   "outputs": [],
   "source": [
    "x=2\n",
    "y=3"
   ]
  },
  {
   "cell_type": "code",
   "execution_count": 2,
   "id": "8b60d92d",
   "metadata": {},
   "outputs": [
    {
     "data": {
      "text/plain": [
       "5"
      ]
     },
     "execution_count": 2,
     "metadata": {},
     "output_type": "execute_result"
    }
   ],
   "source": [
    "x+y"
   ]
  },
  {
   "cell_type": "code",
   "execution_count": 3,
   "id": "e648dbda",
   "metadata": {},
   "outputs": [
    {
     "data": {
      "text/plain": [
       "-1"
      ]
     },
     "execution_count": 3,
     "metadata": {},
     "output_type": "execute_result"
    }
   ],
   "source": [
    "x-y"
   ]
  },
  {
   "cell_type": "code",
   "execution_count": 6,
   "id": "29990a1d",
   "metadata": {},
   "outputs": [],
   "source": [
    "name='Zobia'"
   ]
  },
  {
   "cell_type": "code",
   "execution_count": 7,
   "id": "b570aaa2",
   "metadata": {},
   "outputs": [
    {
     "name": "stdout",
     "output_type": "stream",
     "text": [
      "Zobia\n"
     ]
    }
   ],
   "source": [
    "print(name)"
   ]
  },
  {
   "cell_type": "code",
   "execution_count": 8,
   "id": "da6e2d17",
   "metadata": {},
   "outputs": [],
   "source": [
    "name=\"Zobia_Nizam\""
   ]
  },
  {
   "cell_type": "code",
   "execution_count": 9,
   "id": "7689e349",
   "metadata": {},
   "outputs": [
    {
     "name": "stdout",
     "output_type": "stream",
     "text": [
      "Zobia_Nizam\n"
     ]
    }
   ],
   "source": [
    "print(name)"
   ]
  },
  {
   "cell_type": "code",
   "execution_count": 10,
   "id": "af4be6f1",
   "metadata": {},
   "outputs": [],
   "source": [
    "# do not execute this line"
   ]
  },
  {
   "cell_type": "code",
   "execution_count": 11,
   "id": "950ef601",
   "metadata": {},
   "outputs": [],
   "source": [
    "# x+y"
   ]
  },
  {
   "cell_type": "code",
   "execution_count": 12,
   "id": "07ebe176",
   "metadata": {},
   "outputs": [
    {
     "ename": "SyntaxError",
     "evalue": "invalid syntax (1087663540.py, line 1)",
     "output_type": "error",
     "traceback": [
      "\u001b[0;36m  File \u001b[0;32m\"/var/folders/2d/dq8382jn2xj3tbm40vn07hhr0000gn/T/ipykernel_56247/1087663540.py\"\u001b[0;36m, line \u001b[0;32m1\u001b[0m\n\u001b[0;31m    1name=\"Zobia\"\u001b[0m\n\u001b[0m     ^\u001b[0m\n\u001b[0;31mSyntaxError\u001b[0m\u001b[0;31m:\u001b[0m invalid syntax\n"
     ]
    }
   ],
   "source": [
    "1name=\"Zobia\""
   ]
  },
  {
   "cell_type": "code",
   "execution_count": 13,
   "id": "339e2121",
   "metadata": {},
   "outputs": [],
   "source": [
    "name1=\"Zobia\""
   ]
  },
  {
   "cell_type": "code",
   "execution_count": 14,
   "id": "fd55838f",
   "metadata": {},
   "outputs": [
    {
     "name": "stdout",
     "output_type": "stream",
     "text": [
      "Zobia\n"
     ]
    }
   ],
   "source": [
    "print(name1)"
   ]
  },
  {
   "cell_type": "code",
   "execution_count": 15,
   "id": "362f46c5",
   "metadata": {},
   "outputs": [
    {
     "ename": "SyntaxError",
     "evalue": "invalid syntax (4099115306.py, line 1)",
     "output_type": "error",
     "traceback": [
      "\u001b[0;36m  File \u001b[0;32m\"/var/folders/2d/dq8382jn2xj3tbm40vn07hhr0000gn/T/ipykernel_56247/4099115306.py\"\u001b[0;36m, line \u001b[0;32m1\u001b[0m\n\u001b[0;31m    name one=\"Zobia\"\u001b[0m\n\u001b[0m         ^\u001b[0m\n\u001b[0;31mSyntaxError\u001b[0m\u001b[0;31m:\u001b[0m invalid syntax\n"
     ]
    }
   ],
   "source": [
    "name one=\"Zobia\""
   ]
  },
  {
   "cell_type": "code",
   "execution_count": 16,
   "id": "8da5e00b",
   "metadata": {},
   "outputs": [
    {
     "ename": "TypeError",
     "evalue": "unsupported operand type(s) for @=: 'str' and 'str'",
     "output_type": "error",
     "traceback": [
      "\u001b[0;31m---------------------------------------------------------------------------\u001b[0m",
      "\u001b[0;31mTypeError\u001b[0m                                 Traceback (most recent call last)",
      "\u001b[0;32m/var/folders/2d/dq8382jn2xj3tbm40vn07hhr0000gn/T/ipykernel_56247/1670245615.py\u001b[0m in \u001b[0;36m<module>\u001b[0;34m\u001b[0m\n\u001b[0;32m----> 1\u001b[0;31m \u001b[0mname\u001b[0m\u001b[0;34m@=\u001b[0m\u001b[0;34m'Zobia'\u001b[0m\u001b[0;34m\u001b[0m\u001b[0;34m\u001b[0m\u001b[0m\n\u001b[0m",
      "\u001b[0;31mTypeError\u001b[0m: unsupported operand type(s) for @=: 'str' and 'str'"
     ]
    }
   ],
   "source": [
    "name@='Zobia'"
   ]
  },
  {
   "cell_type": "code",
   "execution_count": 17,
   "id": "c20fdc7e",
   "metadata": {},
   "outputs": [],
   "source": [
    "name_one='Zobia'\n"
   ]
  },
  {
   "cell_type": "code",
   "execution_count": 18,
   "id": "d232bffb",
   "metadata": {},
   "outputs": [
    {
     "name": "stdout",
     "output_type": "stream",
     "text": [
      "Zobia\n"
     ]
    }
   ],
   "source": [
    "print(name_one)"
   ]
  },
  {
   "cell_type": "code",
   "execution_count": null,
   "id": "9fb2fe98",
   "metadata": {},
   "outputs": [],
   "source": []
  }
 ],
 "metadata": {
  "kernelspec": {
   "display_name": "Python 3 (ipykernel)",
   "language": "python",
   "name": "python3"
  },
  "language_info": {
   "codemirror_mode": {
    "name": "ipython",
    "version": 3
   },
   "file_extension": ".py",
   "mimetype": "text/x-python",
   "name": "python",
   "nbconvert_exporter": "python",
   "pygments_lexer": "ipython3",
   "version": "3.9.7"
  }
 },
 "nbformat": 4,
 "nbformat_minor": 5
}
